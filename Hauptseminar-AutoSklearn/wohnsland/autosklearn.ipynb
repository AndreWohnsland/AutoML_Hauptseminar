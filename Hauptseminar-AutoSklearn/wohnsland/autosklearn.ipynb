{
 "cells": [
  {
   "cell_type": "code",
   "execution_count": 11,
   "id": "f25ee57e",
   "metadata": {},
   "outputs": [],
   "source": [
    "from typing_extensions import Literal\n",
    "import autosklearn.classification\n",
    "import autosklearn.regression\n",
    "import sklearn.model_selection\n",
    "import sklearn.datasets\n",
    "import sklearn.metrics\n",
    "\n",
    "import pandas as pd"
   ]
  },
  {
   "cell_type": "markdown",
   "id": "7be2f744",
   "metadata": {},
   "source": [
    "Defining RMSE and F1 score for scoring"
   ]
  },
  {
   "cell_type": "code",
   "execution_count": 2,
   "id": "91a6b914",
   "metadata": {},
   "outputs": [],
   "source": [
    "from sklearn.metrics import mean_squared_error, f1_score"
   ]
  },
  {
   "cell_type": "markdown",
   "id": "4f482c1a",
   "metadata": {},
   "source": [
    "Defining selection of scoring function and target"
   ]
  },
  {
   "cell_type": "code",
   "execution_count": 3,
   "id": "948f6450",
   "metadata": {},
   "outputs": [],
   "source": [
    "def select_config(dataset: Literal[\"college\", \"phishing\"]):\n",
    "    \"\"\"Decides according to instructions what is target and scorer, trows error if unknown dataset\"\"\"\n",
    "    # For College Dataset, Goal: RMSE, we need to build own scorer, since only MSE exists per string default\n",
    "    if dataset == \"college\":\n",
    "        target_name = \"percent_pell_grant\"\n",
    "        used_scorer = lambda x,y: mean_squared_error(x, y, squared=False)\n",
    "    # For Phising Dataset Goal: F1 score\n",
    "    elif dataset == \"phishing\":\n",
    "        target_name = \"Result\"\n",
    "        used_scorer = f1_score\n",
    "    else:\n",
    "        raise NameError(\"We don't got this dataset!\")\n",
    "    return (target_name, used_scorer)"
   ]
  },
  {
   "cell_type": "markdown",
   "id": "5e9a5e54",
   "metadata": {},
   "source": [
    "Generating train test split"
   ]
  },
  {
   "cell_type": "code",
   "execution_count": 37,
   "id": "214f359f",
   "metadata": {},
   "outputs": [],
   "source": [
    "def generate_data(dataset: Literal[\"college\", \"phishing\"]):\n",
    "    target_name, used_scorer = select_config(dataset)\n",
    "    df = pd.read_csv(f\"{dataset}.csv\", quotechar=\"'\", na_values=\"?\") # , na_values=\"?\"\n",
    "    if dataset == \"college\":\n",
    "        to_drop = [\"school_name\", \"city\", \"zip\", \"school_webpage\"]\n",
    "        to_change = [\"state\", \"predominant_degree\",\"highest_degree\",\"ownership\",\"region\",\"gender\",\"carnegie_basic_classification\",\"carnegie_undergraduate\",\"carnegie_size\",\"religious_affiliation\"]\n",
    "        df.drop(to_drop, axis=1, inplace=True)\n",
    "        df = pd.get_dummies(df, prefix=to_change)\n",
    "    X = df.drop(target_name, axis=1)\n",
    "    y = df[target_name]\n",
    "    return sklearn.model_selection.train_test_split(X, y)"
   ]
  },
  {
   "cell_type": "markdown",
   "id": "978b9af9",
   "metadata": {},
   "source": [
    "Using defined functions for data and scorer"
   ]
  },
  {
   "cell_type": "code",
   "execution_count": 47,
   "id": "1637f926",
   "metadata": {},
   "outputs": [],
   "source": [
    "X_train, X_test, y_train, y_test = generate_data(\"phishing\")\n",
    "_, scorer = select_config(\"phishing\")"
   ]
  },
  {
   "cell_type": "markdown",
   "id": "04f6f278",
   "metadata": {},
   "source": [
    "Using AutoML"
   ]
  },
  {
   "cell_type": "code",
   "execution_count": 6,
   "id": "d2564751",
   "metadata": {},
   "outputs": [
    {
     "name": "stdout",
     "output_type": "stream",
     "text": [
      "Accuracy score 0.9670821348673698\n"
     ]
    }
   ],
   "source": [
    "automl = autosklearn.classification.AutoSklearnClassifier(time_left_for_this_task=600)\n",
    "automl.fit(X_train, y_train)\n",
    "y_hat = automl.predict(X_test)\n",
    "print(\"Accuracy score\", scorer(y_test, y_hat))"
   ]
  },
  {
   "cell_type": "code",
   "execution_count": 48,
   "id": "4ae77293",
   "metadata": {},
   "outputs": [
    {
     "name": "stdout",
     "output_type": "stream",
     "text": [
      "Accuracy score 0.9724182168056447\n"
     ]
    }
   ],
   "source": [
    "automl = autosklearn.classification.AutoSklearnClassifier(time_left_for_this_task=600, seed=2)\n",
    "automl.fit(X_train, y_train)\n",
    "y_hat = automl.predict(X_test)\n",
    "print(\"Accuracy score\", scorer(y_test, y_hat))"
   ]
  },
  {
   "cell_type": "code",
   "execution_count": 49,
   "id": "05b69584",
   "metadata": {},
   "outputs": [
    {
     "name": "stdout",
     "output_type": "stream",
     "text": [
      "Accuracy score 0.9724535554131967\n"
     ]
    }
   ],
   "source": [
    "automl = autosklearn.classification.AutoSklearnClassifier(time_left_for_this_task=600, seed=3)\n",
    "automl.fit(X_train, y_train)\n",
    "y_hat = automl.predict(X_test)\n",
    "print(\"Accuracy score\", scorer(y_test, y_hat))"
   ]
  },
  {
   "cell_type": "markdown",
   "id": "e1a0cbd4",
   "metadata": {},
   "source": [
    "Doing same for the college"
   ]
  },
  {
   "cell_type": "markdown",
   "id": "90a8f88b",
   "metadata": {},
   "source": [
    "No support for strings (objects), see in generate_data function the according columns\n",
    "\n",
    "Using One Hot Encoding for categorical and removin colums having more than 100 nunique values"
   ]
  },
  {
   "cell_type": "code",
   "execution_count": 26,
   "id": "88476570",
   "metadata": {},
   "outputs": [
    {
     "name": "stdout",
     "output_type": "stream",
     "text": [
      "school_name: 5235\n",
      "city: 2083\n",
      "state: 56\n",
      "zip: 4674\n",
      "school_webpage: 4336\n",
      "predominant_degree: 4\n",
      "highest_degree: 5\n",
      "ownership: 3\n",
      "region: 10\n",
      "gender: 3\n",
      "carnegie_basic_classification: 34\n",
      "carnegie_undergraduate: 14\n",
      "carnegie_size: 18\n",
      "religious_affiliation: 53\n"
     ]
    }
   ],
   "source": [
    "for x in to_change:\n",
    "    print(f\"{x}: {len(X_train[x].unique())}\")"
   ]
  },
  {
   "cell_type": "code",
   "execution_count": 45,
   "id": "7e25c964",
   "metadata": {},
   "outputs": [],
   "source": [
    "X_train, X_test, y_train, y_test = generate_data(\"college\")\n",
    "_, scorer = select_config(\"college\")"
   ]
  },
  {
   "cell_type": "code",
   "execution_count": 42,
   "id": "171e3e37",
   "metadata": {},
   "outputs": [
    {
     "name": "stdout",
     "output_type": "stream",
     "text": [
      "Accuracy score 0.14321043753742396\n"
     ]
    }
   ],
   "source": [
    "automl2 = autosklearn.regression.AutoSklearnRegressor(time_left_for_this_task=600)\n",
    "automl2.fit(X_train, y_train)\n",
    "y_hat = automl2.predict(X_test)\n",
    "print(\"Accuracy score\", scorer(y_test, y_hat))"
   ]
  },
  {
   "cell_type": "code",
   "execution_count": 43,
   "id": "f9abda6c",
   "metadata": {},
   "outputs": [
    {
     "name": "stdout",
     "output_type": "stream",
     "text": [
      "Accuracy score 0.14317674337127595\n"
     ]
    }
   ],
   "source": [
    "automl2 = autosklearn.regression.AutoSklearnRegressor(time_left_for_this_task=600, seed=2)\n",
    "automl2.fit(X_train, y_train)\n",
    "y_hat = automl2.predict(X_test)\n",
    "print(\"Accuracy score\", scorer(y_test, y_hat))"
   ]
  },
  {
   "cell_type": "code",
   "execution_count": 46,
   "id": "dcf3a395",
   "metadata": {},
   "outputs": [
    {
     "name": "stdout",
     "output_type": "stream",
     "text": [
      "Accuracy score 0.14915458041167518\n"
     ]
    }
   ],
   "source": [
    "automl2 = autosklearn.regression.AutoSklearnRegressor(time_left_for_this_task=600, seed=4)\n",
    "automl2.fit(X_train, y_train)\n",
    "y_hat = automl2.predict(X_test)\n",
    "print(\"Accuracy score\", scorer(y_test, y_hat))"
   ]
  },
  {
   "cell_type": "code",
   "execution_count": null,
   "id": "0f203d6d",
   "metadata": {},
   "outputs": [],
   "source": []
  }
 ],
 "metadata": {
  "kernelspec": {
   "display_name": "Python 3 (ipykernel)",
   "language": "python",
   "name": "python3"
  },
  "language_info": {
   "codemirror_mode": {
    "name": "ipython",
    "version": 3
   },
   "file_extension": ".py",
   "mimetype": "text/x-python",
   "name": "python",
   "nbconvert_exporter": "python",
   "pygments_lexer": "ipython3",
   "version": "3.8.10"
  }
 },
 "nbformat": 4,
 "nbformat_minor": 5
}
